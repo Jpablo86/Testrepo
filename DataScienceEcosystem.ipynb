{
  "metadata": {
    "kernelspec": {
      "name": "python",
      "display_name": "Python (Pyodide)",
      "language": "python"
    },
    "language_info": {
      "codemirror_mode": {
        "name": "python",
        "version": 3
      },
      "file_extension": ".py",
      "mimetype": "text/x-python",
      "name": "python",
      "nbconvert_exporter": "python",
      "pygments_lexer": "ipython3",
      "version": "3.8"
    }
  },
  "nbformat_minor": 4,
  "nbformat": 4,
  "cells": [
    {
      "cell_type": "markdown",
      "source": "# Data Science Tools and Ecosystem",
      "metadata": {}
    },
    {
      "cell_type": "markdown",
      "source": "In this notebook, Data Science Tools and Ecosystem are summarized.",
      "metadata": {}
    },
    {
      "cell_type": "markdown",
      "source": "Some of the popular languages that Data Scientists use are:\n\nordered list:\n\n1  Python\n2  R\n3  SQL",
      "metadata": {}
    },
    {
      "cell_type": "markdown",
      "source": "Some of the commonly used libraries used by Data Scientists include:\n\nordered list:\n1  Panda\n2  NumPy\n3  TensorFlow\n",
      "metadata": {}
    },
    {
      "cell_type": "markdown",
      "source": "Data Science Tools",
      "metadata": {}
    },
    {
      "cell_type": "markdown",
      "source": "Jupyter Notebook",
      "metadata": {}
    },
    {
      "cell_type": "markdown",
      "source": "RStudio",
      "metadata": {}
    },
    {
      "cell_type": "markdown",
      "source": "Apache Spark",
      "metadata": {}
    },
    {
      "cell_type": "markdown",
      "source": "3+5 = 15\n5+5 = 10\n2/2 = 1\n3*1 = 3\n",
      "metadata": {}
    },
    {
      "cell_type": "markdown",
      "source": "### Below are a few examples of evaluating arithmetic expressions in Python",
      "metadata": {}
    },
    {
      "cell_type": "code",
      "source": " # This a simple arithmetic expression to mutiply then add integers\n\n(3*4)+5",
      "metadata": {
        "trusted": true
      },
      "outputs": [
        {
          "execution_count": 2,
          "output_type": "execute_result",
          "data": {
            "text/plain": "17"
          },
          "metadata": {}
        }
      ],
      "execution_count": 2
    },
    {
      "cell_type": "code",
      "source": "#This will convert 200 minutes to hours by diving by 60\n\n200/60\n",
      "metadata": {
        "trusted": true
      },
      "outputs": [
        {
          "execution_count": 9,
          "output_type": "execute_result",
          "data": {
            "text/plain": "3.3333333333333335"
          },
          "metadata": {}
        }
      ],
      "execution_count": 9
    },
    {
      "cell_type": "markdown",
      "source": "**Objectives:**\n\n- List popular languages for Data Science\n- Describe common libraries used in Data Science\n- Explain basic operations in Python\n- Demonstrate data visualization techniques\n- Outline steps in a data analysis workflow",
      "metadata": {}
    },
    {
      "cell_type": "markdown",
      "source": "## Author\n\nJuan Pablo Esparza",
      "metadata": {}
    },
    {
      "cell_type": "code",
      "source": "",
      "metadata": {
        "trusted": true
      },
      "outputs": [],
      "execution_count": null
    }
  ]
}